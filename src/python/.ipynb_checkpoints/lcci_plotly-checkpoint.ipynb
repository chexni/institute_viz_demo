{
 "cells": [
  {
   "cell_type": "markdown",
   "metadata": {},
   "source": [
    "# [Local Consumer Commerce](https://www.jpmorganchase.com/corporate/institute/lcc-index.htm)\n",
    "\n",
    "In the [JPMorgan Chase Institute](https://www.jpmorganchase.com/corporate/institute/institute.htm), we use billions of transactions to explore and analyze the financial decisions of households, firms, and market actors. Among the analyses we perform is the measurement of local commercial activity across 14 metro areas. We refer to this activity as Local Consumer Commerce. This Notebook will provide a way to interactively explore the LCC data file we make available on the website."
   ]
  },
  {
   "cell_type": "code",
   "execution_count": 26,
   "metadata": {},
   "outputs": [],
   "source": [
    "# Data manipulation\n",
    "import numpy as np\n",
    "import pandas as pd\n",
    "# Data visualization\n",
    "import plotly as pl\n",
    "import plotly.graph_objs as pgo\n",
    "# Credentials\n",
    "from getpass import getpass\n",
    "\n",
    "# Set paths\n",
    "out_dir = '../../out/'\n",
    "data_dir = '../../data/'\n",
    "\n",
    "# Refresh data flag\n",
    "refresh_data = True"
   ]
  },
  {
   "cell_type": "markdown",
   "metadata": {},
   "source": [
    "Since we are using [plotly](https://plot.ly/) in this demo, we need to establish our [credentials](https://plot.ly/python/getting-started/). Note that your API key must be retrieved from your [API Settings](https://plot.ly/settings/api#/) page in your plotly account. You have to login to the plotly site to get there and generate a key."
   ]
  },
  {
   "cell_type": "code",
   "execution_count": 50,
   "metadata": {},
   "outputs": [
    {
     "name": "stdout",
     "output_type": "stream",
     "text": [
      "Enter Password: ········\n"
     ]
    }
   ],
   "source": [
    "user = 'marvinward'\n",
    "pw = getpass('Enter Password: ')\n",
    "\n",
    "pl.tools.set_credentials_file(username=user, api_key=pw)"
   ]
  },
  {
   "cell_type": "markdown",
   "metadata": {},
   "source": [
    "## Data Acqusition"
   ]
  },
  {
   "cell_type": "markdown",
   "metadata": {},
   "source": [
    "The [data file](https://www.jpmorganchase.com/corporate/institute/document/lcc_fulldata.zip) is located on the website. We can acquire said file and unzip it with shell commands."
   ]
  },
  {
   "cell_type": "code",
   "execution_count": 18,
   "metadata": {},
   "outputs": [
    {
     "name": "stdout",
     "output_type": "stream",
     "text": [
      "--2018-07-28 11:04:45--  https://www.jpmorganchase.com/corporate/institute/document/lcc_fulldata.zip\n",
      "Resolving www.jpmorganchase.com (www.jpmorganchase.com)... 159.53.116.46\n",
      "Connecting to www.jpmorganchase.com (www.jpmorganchase.com)|159.53.116.46|:443... connected.\n",
      "HTTP request sent, awaiting response... 200 OK\n",
      "Length: 204321 (200K) [application/zip]\n",
      "Saving to: ‘../../data/lcc_fulldata.zip’\n",
      "\n",
      "../../data/lcc_full 100%[===================>] 199.53K  --.-KB/s    in 0.1s    \n",
      "\n",
      "2018-07-28 11:04:46 (1.31 MB/s) - ‘../../data/lcc_fulldata.zip’ saved [204321/204321]\n",
      "\n",
      "Archive:  ../../data/lcc_fulldata.zip\n",
      "  inflating: ../../data/lcc_fulldata.csv  \n"
     ]
    }
   ],
   "source": [
    "if refresh_data:\n",
    "    !wget -O {data_dir}lcc_fulldata.zip https://www.jpmorganchase.com/corporate/institute/document/lcc_fulldata.zip\n",
    "    !unzip -d {data_dir} {data_dir}lcc_fulldata.zip"
   ]
  },
  {
   "cell_type": "code",
   "execution_count": 20,
   "metadata": {},
   "outputs": [
    {
     "name": "stdout",
     "output_type": "stream",
     "text": [
      "periodid,area_name,dimname,category,growth_rate,spend_share,growth_contribution\r",
      "\r\n",
      "201310,National,age,<25,0.1882,0.1011,0.0171\r",
      "\r\n",
      "201310,National,age,25-34,0.0879,0.1491,0.0129\r",
      "\r\n",
      "201310,National,age,35-44,0.0605,0.1978,0.012\r",
      "\r\n",
      "201310,National,age,45-54,0.049,0.2128,0.0106\r",
      "\r\n"
     ]
    }
   ],
   "source": [
    "!head -5 {data_dir}lcc_fulldata.csv"
   ]
  },
  {
   "cell_type": "markdown",
   "metadata": {},
   "source": [
    "## Data Preparation"
   ]
  },
  {
   "cell_type": "markdown",
   "metadata": {},
   "source": [
    "To ease manipulation of the data, we can capture some relevant information and convert periodids to pandas periods. The latter makes it easier to deal with time series operations."
   ]
  },
  {
   "cell_type": "code",
   "execution_count": 21,
   "metadata": {},
   "outputs": [
    {
     "data": {
      "text/html": [
       "<div>\n",
       "<style>\n",
       "    .dataframe thead tr:only-child th {\n",
       "        text-align: right;\n",
       "    }\n",
       "\n",
       "    .dataframe thead th {\n",
       "        text-align: left;\n",
       "    }\n",
       "\n",
       "    .dataframe tbody tr th {\n",
       "        vertical-align: top;\n",
       "    }\n",
       "</style>\n",
       "<table border=\"1\" class=\"dataframe\">\n",
       "  <thead>\n",
       "    <tr style=\"text-align: right;\">\n",
       "      <th></th>\n",
       "      <th>periodid</th>\n",
       "      <th>area_name</th>\n",
       "      <th>dimname</th>\n",
       "      <th>category</th>\n",
       "      <th>growth_rate</th>\n",
       "      <th>spend_share</th>\n",
       "      <th>growth_contribution</th>\n",
       "      <th>month</th>\n",
       "    </tr>\n",
       "  </thead>\n",
       "  <tbody>\n",
       "    <tr>\n",
       "      <th>0</th>\n",
       "      <td>201310</td>\n",
       "      <td>National</td>\n",
       "      <td>age</td>\n",
       "      <td>&lt;25</td>\n",
       "      <td>0.1882</td>\n",
       "      <td>0.1011</td>\n",
       "      <td>0.0171</td>\n",
       "      <td>2013-10</td>\n",
       "    </tr>\n",
       "    <tr>\n",
       "      <th>1</th>\n",
       "      <td>201310</td>\n",
       "      <td>National</td>\n",
       "      <td>age</td>\n",
       "      <td>25-34</td>\n",
       "      <td>0.0879</td>\n",
       "      <td>0.1491</td>\n",
       "      <td>0.0129</td>\n",
       "      <td>2013-10</td>\n",
       "    </tr>\n",
       "    <tr>\n",
       "      <th>2</th>\n",
       "      <td>201310</td>\n",
       "      <td>National</td>\n",
       "      <td>age</td>\n",
       "      <td>35-44</td>\n",
       "      <td>0.0605</td>\n",
       "      <td>0.1978</td>\n",
       "      <td>0.0120</td>\n",
       "      <td>2013-10</td>\n",
       "    </tr>\n",
       "    <tr>\n",
       "      <th>3</th>\n",
       "      <td>201310</td>\n",
       "      <td>National</td>\n",
       "      <td>age</td>\n",
       "      <td>45-54</td>\n",
       "      <td>0.0490</td>\n",
       "      <td>0.2128</td>\n",
       "      <td>0.0106</td>\n",
       "      <td>2013-10</td>\n",
       "    </tr>\n",
       "    <tr>\n",
       "      <th>4</th>\n",
       "      <td>201310</td>\n",
       "      <td>National</td>\n",
       "      <td>age</td>\n",
       "      <td>55-64</td>\n",
       "      <td>0.0440</td>\n",
       "      <td>0.1675</td>\n",
       "      <td>0.0075</td>\n",
       "      <td>2013-10</td>\n",
       "    </tr>\n",
       "  </tbody>\n",
       "</table>\n",
       "</div>"
      ],
      "text/plain": [
       "   periodid area_name dimname category  growth_rate  spend_share  \\\n",
       "0    201310  National     age      <25       0.1882       0.1011   \n",
       "1    201310  National     age    25-34       0.0879       0.1491   \n",
       "2    201310  National     age    35-44       0.0605       0.1978   \n",
       "3    201310  National     age    45-54       0.0490       0.2128   \n",
       "4    201310  National     age    55-64       0.0440       0.1675   \n",
       "\n",
       "   growth_contribution   month  \n",
       "0               0.0171 2013-10  \n",
       "1               0.0129 2013-10  \n",
       "2               0.0120 2013-10  \n",
       "3               0.0106 2013-10  \n",
       "4               0.0075 2013-10  "
      ]
     },
     "execution_count": 21,
     "metadata": {},
     "output_type": "execute_result"
    }
   ],
   "source": [
    "# Read in data\n",
    "lcc = pd.read_csv(data_dir + 'lcc_fulldata.csv')\n",
    "\n",
    "# Convert months to pandas periods\n",
    "lcc['month'] = lcc['periodid'].apply(lambda x: pd.Period(x, freq='M'))\n",
    "\n",
    "# Map income categories to quintiles\n",
    "int_dict = {\n",
    "    '<21': 'q1',\n",
    "    '21-40': 'q2',\n",
    "    '41-60': 'q3',\n",
    "    '61-80': 'q4',\n",
    "    '81-100': 'q5'\n",
    "}\n",
    "lcc['category'] = lcc['category'].replace(int_dict)\n",
    "\n",
    "# Capture category labels for each dimension in the right order\n",
    "dim_labs = {\n",
    "    'age': ['<25', '25-34', '35-44', '45-54', '55-64', '65+'],\n",
    "    'income': ['q1', 'q2', 'q3', 'q4', 'q5'],\n",
    "    'bizsize': ['SMALL', 'MEDIUM', 'LARGE'],\n",
    "    'location': ['Same Neighborhood', 'Same Region', 'Different Region'],\n",
    "    'product': ['Durables', 'Fuel', 'Nondurables', 'Other Services', 'Restaurants']\n",
    "}\n",
    "\n",
    "# Construct lists of areas, dimensions and measures\n",
    "areas = sorted(set(lcc['area_name']))\n",
    "dims = sorted(set(lcc['dimname']))\n",
    "measures = ['growth_rate', 'spend_share', 'growth_contribution']\n",
    "\n",
    "# Define LCC palette\n",
    "lcc_colors = ['#00a0dd', '#a2dadb', '#bbd976', '#ffe18b', '#fbaf5d', '#f57f32']\n",
    "\n",
    "lcc.head()"
   ]
  },
  {
   "cell_type": "markdown",
   "metadata": {},
   "source": [
    "It might be helpful to craft a function that makes it easy to grab specific subsets we can easily display."
   ]
  },
  {
   "cell_type": "code",
   "execution_count": 25,
   "metadata": {},
   "outputs": [
    {
     "data": {
      "text/html": [
       "<div>\n",
       "<style>\n",
       "    .dataframe thead tr:only-child th {\n",
       "        text-align: right;\n",
       "    }\n",
       "\n",
       "    .dataframe thead th {\n",
       "        text-align: left;\n",
       "    }\n",
       "\n",
       "    .dataframe tbody tr th {\n",
       "        vertical-align: top;\n",
       "    }\n",
       "</style>\n",
       "<table border=\"1\" class=\"dataframe\">\n",
       "  <thead>\n",
       "    <tr style=\"text-align: right;\">\n",
       "      <th></th>\n",
       "      <th>month</th>\n",
       "      <th>&lt;25</th>\n",
       "      <th>25-34</th>\n",
       "      <th>35-44</th>\n",
       "      <th>45-54</th>\n",
       "      <th>55-64</th>\n",
       "      <th>65+</th>\n",
       "    </tr>\n",
       "  </thead>\n",
       "  <tbody>\n",
       "    <tr>\n",
       "      <th>0</th>\n",
       "      <td>2013-10</td>\n",
       "      <td>1.56</td>\n",
       "      <td>1.13</td>\n",
       "      <td>1.06</td>\n",
       "      <td>0.70</td>\n",
       "      <td>0.19</td>\n",
       "      <td>0.19</td>\n",
       "    </tr>\n",
       "    <tr>\n",
       "      <th>1</th>\n",
       "      <td>2013-11</td>\n",
       "      <td>1.49</td>\n",
       "      <td>1.23</td>\n",
       "      <td>1.21</td>\n",
       "      <td>0.87</td>\n",
       "      <td>0.27</td>\n",
       "      <td>-0.10</td>\n",
       "    </tr>\n",
       "    <tr>\n",
       "      <th>2</th>\n",
       "      <td>2013-12</td>\n",
       "      <td>1.19</td>\n",
       "      <td>0.48</td>\n",
       "      <td>0.29</td>\n",
       "      <td>0.10</td>\n",
       "      <td>-0.22</td>\n",
       "      <td>-0.12</td>\n",
       "    </tr>\n",
       "    <tr>\n",
       "      <th>3</th>\n",
       "      <td>2014-01</td>\n",
       "      <td>1.13</td>\n",
       "      <td>0.79</td>\n",
       "      <td>0.63</td>\n",
       "      <td>0.36</td>\n",
       "      <td>-0.20</td>\n",
       "      <td>-0.58</td>\n",
       "    </tr>\n",
       "    <tr>\n",
       "      <th>4</th>\n",
       "      <td>2014-02</td>\n",
       "      <td>1.17</td>\n",
       "      <td>0.96</td>\n",
       "      <td>0.67</td>\n",
       "      <td>0.38</td>\n",
       "      <td>0.13</td>\n",
       "      <td>-0.30</td>\n",
       "    </tr>\n",
       "  </tbody>\n",
       "</table>\n",
       "</div>"
      ],
      "text/plain": [
       "    month   <25  25-34  35-44  45-54  55-64   65+\n",
       "0 2013-10  1.56   1.13   1.06   0.70   0.19  0.19\n",
       "1 2013-11  1.49   1.23   1.21   0.87   0.27 -0.10\n",
       "2 2013-12  1.19   0.48   0.29   0.10  -0.22 -0.12\n",
       "3 2014-01  1.13   0.79   0.63   0.36  -0.20 -0.58\n",
       "4 2014-02  1.17   0.96   0.67   0.38   0.13 -0.30"
      ]
     },
     "execution_count": 25,
     "metadata": {},
     "output_type": "execute_result"
    }
   ],
   "source": [
    "def get_lcc_sub(area, dim, measure, df=lcc):\n",
    "    # Define area and dimension subset conditions\n",
    "    a = (df['area_name'] == area)\n",
    "    d = (df['dimname'] == dim)\n",
    "    # Subset data\n",
    "    df_sub = df[a & d][['month', 'category', measure]]\n",
    "    # Set month and category to the index\n",
    "    df_sub.set_index(['month', 'category'], inplace=True)\n",
    "    # Unstack category (aka - convert from long to wide format)\n",
    "    df_sub = df_sub.unstack('category') * 100\n",
    "    # Drop multiindex columns in favor of category names\n",
    "    df_sub.columns = [c[1] for c in df_sub.columns]\n",
    "    # If we are look at anything but the total growth rate, fix label order\n",
    "    if dim != 'Total':\n",
    "        df_sub = df_sub[dim_labs[dim]]\n",
    "    return df_sub.reset_index()\n",
    "\n",
    "get_lcc_sub('Chicago, IL - Metro Area', 'age', 'growth_contribution').head()"
   ]
  },
  {
   "cell_type": "markdown",
   "metadata": {},
   "source": [
    "## Plotting LCCI Data"
   ]
  },
  {
   "cell_type": "markdown",
   "metadata": {},
   "source": [
    "### Helper Functions"
   ]
  },
  {
   "cell_type": "markdown",
   "metadata": {},
   "source": [
    "Our goal is to leverage the plotly API to generate charts that will land in plotly [Chart Studio](https://plot.ly/online-chart-maker/), ostensibly making them available for non-programming folk to modify as needed. Construction of plotly charts involves some generic operations (e.g. getting data traces), so helper functions can be useful here. Since they will generally have common inputs and hang together in the creation of a chart, will just house them in a small class."
   ]
  },
  {
   "cell_type": "code",
   "execution_count": 88,
   "metadata": {},
   "outputs": [
    {
     "name": "stdout",
     "output_type": "stream",
     "text": [
      "plotlyChartGenerator(\n",
      "\tArea = Chicago, IL - Metro Area\n",
      "\tDimension = age\n",
      "\tMeasure = growth_rate\n",
      "\tMinimum Period = 2013-10\n",
      "\tMaximum Period = 2018-03\n",
      "\tColor Palette = ['#00a0dd', '#a2dadb', '#bbd976', '#ffe18b', '#fbaf5d', '#f57f32']\n",
      ")\n",
      "\n",
      "Input Data Sample:\n",
      "    month    <25  25-34  35-44  45-54  55-64   65+\n",
      "0 2013-10  18.66   7.44   5.04   3.18   1.13  1.19\n",
      "1 2013-11  17.41   8.28   5.75   3.87   1.55 -0.64\n",
      "2 2013-12  14.69   3.30   1.40   0.45  -1.20 -0.76\n",
      "3 2014-01  15.67   5.19   3.00   1.56  -1.11 -3.58\n",
      "4 2014-02  20.18   5.89   3.05   1.64   0.73 -1.97\n"
     ]
    }
   ],
   "source": [
    "class plotlyChartGenerator:\n",
    "    \n",
    "    def __init__(self, a, d, m):\n",
    "        # Parametric inputs\n",
    "        self.area = a\n",
    "        self.dim = d\n",
    "        self.measure = m\n",
    "        # Default values (which can be reset)\n",
    "        self.df = lcc\n",
    "        self.min_per = lcc.month.min()\n",
    "        self.max_per = lcc.month.max()\n",
    "        self.colors = lcc_colors\n",
    "        \n",
    "    def to_string(self, n=5):\n",
    "        '''\n",
    "        Method returns a string representation of attribute states and the input data.\n",
    "        '''\n",
    "        attr_dict = {\n",
    "            'Area': self.area,\n",
    "            'Dimension': self.dim,\n",
    "            'Measure': self.measure,\n",
    "            'Minimum Period': self.min_per,\n",
    "            'Maximum Period': self.max_per,\n",
    "            'Color Palette': self.colors\n",
    "        }\n",
    "        s = 'plotlyChartGenerator(\\n'\n",
    "        for attr in attr_dict:\n",
    "            s += '\\t{k} = {v}\\n'.format(k=attr, v=attr_dict[attr])\n",
    "        s += ')\\n\\nInput Data Sample:'\n",
    "        print(s)\n",
    "        df_sub = get_lcc_sub(self.area, self.dim, self.measure, self.df)\n",
    "        print(df_sub.head(n))\n",
    "       \n",
    "\n",
    "    def get_traces(self, plot_func):\n",
    "        '''\n",
    "        Method returns a list of traces that can be paired with a layout for plotly charts.\n",
    "        \n",
    "        Note that this method leverages higher-lever function capability. One must choose the kind of\n",
    "        trace they seek (e.g. Scatter or Bar). Right now this is flimsily built to only support a \n",
    "        couple chart types\n",
    "        '''\n",
    "        # Grab relevant subset\n",
    "        df_sub = get_lcc_sub(self.area, self.dim, self.measure, self.df)\n",
    "        df_sub = df_sub[(df_sub['month'] >= self.min_per) & (df_sub['month'] <= self.max_per)]\n",
    "        # Generate string version of the month variable because it must be serializable\n",
    "        # (it will be converted to javascript)\n",
    "        df_sub['month_str'] = df_sub['month'].apply(lambda x: x.strftime('%m-%Y'))\n",
    "        # Capture traces for each category from subset (expanded for conceptual clarity)\n",
    "        traces = []\n",
    "        for i,d in enumerate(dim_labs[self.dim]):\n",
    "            if plot_func == pgo.Scatter:\n",
    "                next_trace = plot_func(x=df_sub['month_str'], y=df_sub[d], name=d, line=dict(color=self.colors[i]))\n",
    "            elif plot_func == pgo.Bar:\n",
    "                next_trace = plot_func(x=df_sub['month_str'], y=df_sub[d], name=d, marker=dict(color=self.colors[i]))\n",
    "            traces.append(next_trace)\n",
    "        return traces\n",
    "    \n",
    "    def get_layout(self, barmode=None):\n",
    "        '''\n",
    "        Method returns a layout with plot title and y-axis label tailored to the given\n",
    "        combination of area, dimension, and measure.\n",
    "        '''\n",
    "        meas_str = ' '.join(self.measure.split('_')).title()\n",
    "        dim_str = self.dim.title()\n",
    "        ttl = '{m} in {a} by {d}'.format(a=self.area, d=dim_str, m=meas_str)\n",
    "        y_ttl='Year-over-Year {} (%)'.format(meas_str)\n",
    "        yaxis_config = {\n",
    "            'title': y_ttl\n",
    "        }\n",
    "        return pgo.Layout(title=ttl, yaxis=yaxis_config, barmode=barmode)\n",
    "    \n",
    "    def get_fig(self, plot_func, barmode=None):\n",
    "        '''\n",
    "        Method returns a plotly figure that is ready for plotting, building on the traces\n",
    "        and layout returned in above methods.\n",
    "        '''\n",
    "        traces = self.get_traces(plot_func)\n",
    "        layout = self.get_layout(barmode)\n",
    "        return pgo.Figure(data=traces, layout=layout)        \n",
    "    \n",
    "pcg_rate = plotlyChartGenerator('Chicago, IL - Metro Area', 'age', 'growth_rate')\n",
    "\n",
    "pcg_rate.to_string()\n",
    "# pcg_rate.get_traces()\n",
    "# pcg_rate.get_layout()\n",
    "# pcg_rate.get_line_fig()"
   ]
  },
  {
   "cell_type": "code",
   "execution_count": 90,
   "metadata": {},
   "outputs": [
    {
     "data": {
      "text/html": [
       "<iframe id=\"igraph\" scrolling=\"no\" style=\"border:none;\" seamless=\"seamless\" src=\"https://plot.ly/~marvinward/12.embed\" height=\"525px\" width=\"100%\"></iframe>"
      ],
      "text/plain": [
       "<plotly.tools.PlotlyDisplay object>"
      ]
     },
     "execution_count": 90,
     "metadata": {},
     "output_type": "execute_result"
    }
   ],
   "source": [
    "chi_age_rate = pcg_rate.get_fig(pgo.Scatter)\n",
    "pl.plotly.iplot(chi_age_rate)"
   ]
  },
  {
   "cell_type": "code",
   "execution_count": 91,
   "metadata": {},
   "outputs": [
    {
     "name": "stdout",
     "output_type": "stream",
     "text": [
      "plotlyChartGenerator(\n",
      "\tArea = Chicago, IL - Metro Area\n",
      "\tDimension = age\n",
      "\tMeasure = growth_contribution\n",
      "\tMinimum Period = 2013-10\n",
      "\tMaximum Period = 2018-03\n",
      "\tColor Palette = ['#00a0dd', '#a2dadb', '#bbd976', '#ffe18b', '#fbaf5d', '#f57f32']\n",
      ")\n",
      "\n",
      "Input Data Sample:\n",
      "    month   <25  25-34  35-44  45-54  55-64   65+\n",
      "0 2013-10  1.56   1.13   1.06   0.70   0.19  0.19\n",
      "1 2013-11  1.49   1.23   1.21   0.87   0.27 -0.10\n",
      "2 2013-12  1.19   0.48   0.29   0.10  -0.22 -0.12\n",
      "3 2014-01  1.13   0.79   0.63   0.36  -0.20 -0.58\n",
      "4 2014-02  1.17   0.96   0.67   0.38   0.13 -0.30\n"
     ]
    }
   ],
   "source": [
    "pcg_contr = plotlyChartGenerator('Chicago, IL - Metro Area', 'age', 'growth_contribution')\n",
    "\n",
    "pcg_contr.to_string()"
   ]
  },
  {
   "cell_type": "code",
   "execution_count": 96,
   "metadata": {
    "scrolled": false
   },
   "outputs": [
    {
     "data": {
      "text/html": [
       "<iframe id=\"igraph\" scrolling=\"no\" style=\"border:none;\" seamless=\"seamless\" src=\"https://plot.ly/~marvinward/20.embed\" height=\"525px\" width=\"100%\"></iframe>"
      ],
      "text/plain": [
       "<plotly.tools.PlotlyDisplay object>"
      ]
     },
     "execution_count": 96,
     "metadata": {},
     "output_type": "execute_result"
    }
   ],
   "source": [
    "chi_age_contr = pcg_contr.get_fig(pgo.Bar, barmode='relative')\n",
    "pl.plotly.iplot(chi_age_contr)"
   ]
  }
 ],
 "metadata": {
  "kernelspec": {
   "display_name": "Python 3",
   "language": "python",
   "name": "python3"
  },
  "language_info": {
   "codemirror_mode": {
    "name": "ipython",
    "version": 3
   },
   "file_extension": ".py",
   "mimetype": "text/x-python",
   "name": "python",
   "nbconvert_exporter": "python",
   "pygments_lexer": "ipython3",
   "version": "3.6.4"
  }
 },
 "nbformat": 4,
 "nbformat_minor": 2
}
